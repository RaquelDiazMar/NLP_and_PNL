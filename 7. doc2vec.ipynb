{
 "cells": [
  {
   "cell_type": "markdown",
   "metadata": {},
   "source": [
    "### What is doc2vec?\n",
    "\n",
    "doc2vec is a shallow, two-layer neural network that accepts a text corpus as an input, and it return a set of vectors (also known as embeddings); each vector is a numeric representation of a given sentence, paragraph or document."
   ]
  },
  {
   "cell_type": "code",
   "execution_count": 1,
   "metadata": {},
   "outputs": [],
   "source": [
    "# Read in data, clean it, and then split into train and test sets\n",
    "import gensim\n",
    "import pandas as pd\n",
    "from sklearn.model_selection import train_test_split\n",
    "pd.set_option('display.max_colwidth', 100)\n",
    "\n",
    "messages = pd.read_csv('spam.csv', encoding='latin-1')\n",
    "messages = messages.drop(labels = [\"Unnamed: 2\", \"Unnamed: 3\", \"Unnamed: 4\"], axis = 1)\n",
    "messages.columns = [\"label\", \"text\"]\n",
    "messages['text_clean'] = messages['text'].apply(lambda x: gensim.utils.simple_preprocess(x))\n",
    "\n",
    "X_train, X_test, y_train, y_test = train_test_split(messages['text_clean'],\n",
    "                                                    messages['label'], test_size=0.2)"
   ]
  },
  {
   "cell_type": "code",
   "execution_count": 2,
   "metadata": {},
   "outputs": [],
   "source": [
    "# Create tagged document objects to prepare to train the model\n",
    "tagged_docs = [gensim.models.doc2vec.TaggedDocument(v, [i]) for i, v in enumerate(X_train)]"
   ]
  },
  {
   "cell_type": "code",
   "execution_count": 3,
   "metadata": {},
   "outputs": [
    {
     "data": {
      "text/plain": [
       "TaggedDocument(words=['that', 'the', 'trouble', 'with', 'classes', 'that', 'go', 'well', 'you', 're', 'due', 'dodgey', 'one', 'û_', 'expecting', 'mine', 'tomo', 'see', 'you', 'for', 'recovery', 'same', 'time', 'same', 'place'], tags=[0])"
      ]
     },
     "execution_count": 3,
     "metadata": {},
     "output_type": "execute_result"
    }
   ],
   "source": [
    "# Look at what a tagged document looks like\n",
    "tagged_docs[0]"
   ]
  },
  {
   "cell_type": "code",
   "execution_count": 4,
   "metadata": {},
   "outputs": [],
   "source": [
    "# Train a basic doc2vec model\n",
    "d2v_model = gensim.models.Doc2Vec(tagged_docs,\n",
    "                                  vector_size=100,\n",
    "                                  window=5,\n",
    "                                  min_count=2)"
   ]
  },
  {
   "cell_type": "code",
   "execution_count": 5,
   "metadata": {},
   "outputs": [
    {
     "ename": "TypeError",
     "evalue": "Parameter doc_words of infer_vector() must be a list of strings (not a single string).",
     "output_type": "error",
     "traceback": [
      "\u001b[1;31m---------------------------------------------------------------------------\u001b[0m",
      "\u001b[1;31mTypeError\u001b[0m                                 Traceback (most recent call last)",
      "\u001b[1;32m<ipython-input-5-81bc935a6094>\u001b[0m in \u001b[0;36m<module>\u001b[1;34m\u001b[0m\n\u001b[0;32m      1\u001b[0m \u001b[1;31m# What happens if we pass in a single word like we did for word2vec?\u001b[0m\u001b[1;33m\u001b[0m\u001b[1;33m\u001b[0m\u001b[1;33m\u001b[0m\u001b[0m\n\u001b[1;32m----> 2\u001b[1;33m \u001b[0md2v_model\u001b[0m\u001b[1;33m.\u001b[0m\u001b[0minfer_vector\u001b[0m\u001b[1;33m(\u001b[0m\u001b[1;34m'text'\u001b[0m\u001b[1;33m)\u001b[0m\u001b[1;33m\u001b[0m\u001b[1;33m\u001b[0m\u001b[0m\n\u001b[0m",
      "\u001b[1;32m~\\anaconda3\\lib\\site-packages\\gensim\\models\\doc2vec.py\u001b[0m in \u001b[0;36minfer_vector\u001b[1;34m(self, doc_words, alpha, min_alpha, epochs, steps)\u001b[0m\n\u001b[0;32m    660\u001b[0m         \"\"\"\n\u001b[0;32m    661\u001b[0m         \u001b[1;32mif\u001b[0m \u001b[0misinstance\u001b[0m\u001b[1;33m(\u001b[0m\u001b[0mdoc_words\u001b[0m\u001b[1;33m,\u001b[0m \u001b[0mstring_types\u001b[0m\u001b[1;33m)\u001b[0m\u001b[1;33m:\u001b[0m\u001b[1;33m\u001b[0m\u001b[1;33m\u001b[0m\u001b[0m\n\u001b[1;32m--> 662\u001b[1;33m             \u001b[1;32mraise\u001b[0m \u001b[0mTypeError\u001b[0m\u001b[1;33m(\u001b[0m\u001b[1;34m\"Parameter doc_words of infer_vector() must be a list of strings (not a single string).\"\u001b[0m\u001b[1;33m)\u001b[0m\u001b[1;33m\u001b[0m\u001b[1;33m\u001b[0m\u001b[0m\n\u001b[0m\u001b[0;32m    663\u001b[0m \u001b[1;33m\u001b[0m\u001b[0m\n\u001b[0;32m    664\u001b[0m         \u001b[0malpha\u001b[0m \u001b[1;33m=\u001b[0m \u001b[0malpha\u001b[0m \u001b[1;32mor\u001b[0m \u001b[0mself\u001b[0m\u001b[1;33m.\u001b[0m\u001b[0malpha\u001b[0m\u001b[1;33m\u001b[0m\u001b[1;33m\u001b[0m\u001b[0m\n",
      "\u001b[1;31mTypeError\u001b[0m: Parameter doc_words of infer_vector() must be a list of strings (not a single string)."
     ]
    }
   ],
   "source": [
    "# What happens if we pass in a single word like we did for word2vec?\n",
    "d2v_model.infer_vector('text')"
   ]
  },
  {
   "cell_type": "code",
   "execution_count": 6,
   "metadata": {},
   "outputs": [
    {
     "data": {
      "text/plain": [
       "array([-4.45364043e-03, -8.95637274e-03,  6.86274283e-03,  4.30390006e-03,\n",
       "       -8.66194139e-04,  3.33436322e-03,  3.89745436e-03,  7.93918967e-03,\n",
       "        1.88355753e-03, -7.71176349e-03, -3.93946283e-03, -9.21483524e-03,\n",
       "       -4.54162888e-04, -7.88476970e-03, -3.14446253e-04, -1.87810289e-03,\n",
       "        3.92775238e-03,  4.25519011e-06, -9.20689479e-03,  2.53066607e-03,\n",
       "        3.29231168e-03,  1.33812753e-02,  9.49568022e-03,  8.65204493e-04,\n",
       "        1.69633306e-03, -5.92216011e-03,  3.91225889e-03, -2.77321343e-03,\n",
       "        2.71082856e-03,  2.12223874e-03,  6.47228211e-03,  5.48303872e-03,\n",
       "       -3.83526291e-04, -4.23274888e-03, -2.08270882e-04, -3.35586141e-03,\n",
       "        2.45539611e-03, -4.83063795e-03,  1.05192950e-02, -2.46394286e-03,\n",
       "        1.29672873e-03,  3.33187636e-03, -4.36946284e-03,  7.58815077e-05,\n",
       "        4.90884623e-03,  4.65069665e-04, -6.34506159e-03, -1.41423650e-03,\n",
       "        4.23741620e-03, -2.07102601e-03,  2.21205456e-03,  8.90070107e-04,\n",
       "        6.90404838e-03, -7.67134421e-04,  1.90079492e-03, -3.38917645e-03,\n",
       "       -1.63910689e-03,  4.62906295e-03,  6.47429656e-03, -2.67345575e-03,\n",
       "        3.49552557e-03,  3.01361294e-03, -1.25609227e-02, -2.55861436e-03,\n",
       "       -5.48595469e-03,  5.54143218e-03,  3.98614164e-03, -5.20586269e-03,\n",
       "       -2.98098614e-03,  5.62224304e-03, -4.05978272e-03, -2.73713842e-03,\n",
       "        3.71993729e-03,  2.25931057e-03, -1.62830285e-03,  1.60252326e-04,\n",
       "        1.13749821e-02,  2.56158831e-03, -2.68607982e-03, -3.80308181e-03,\n",
       "       -6.97876187e-03,  7.85099655e-06, -9.28405020e-03, -3.29671986e-03,\n",
       "       -1.86275830e-03,  4.80759144e-03, -7.24069832e-04,  1.45015465e-02,\n",
       "        5.76465437e-03,  1.35698006e-03,  3.42291687e-03, -6.01712236e-05,\n",
       "        9.61153954e-03,  1.30938424e-03, -3.32284556e-03,  4.68314020e-03,\n",
       "       -1.73205882e-03, -1.31531991e-03, -6.29697181e-03, -7.50634004e-04],\n",
       "      dtype=float32)"
      ]
     },
     "execution_count": 6,
     "metadata": {},
     "output_type": "execute_result"
    }
   ],
   "source": [
    "# What happens if we pass in a list of words?\n",
    "d2v_model.infer_vector(['i', 'am', 'learning', 'nlp'])"
   ]
  },
  {
   "cell_type": "markdown",
   "metadata": {},
   "source": [
    "### What About Pre-trained Document Vectors?\n",
    "\n",
    "There are not as many options as there are for word vectors. There also is not an easy API to read these in like there is for `word2vec` so it is more time consuming.\n",
    "\n",
    "Pre-trained vectors from training on Wikipedia and Associated Press News can be found [here](https://github.com/jhlau/doc2vec). "
   ]
  },
  {
   "cell_type": "code",
   "execution_count": 7,
   "metadata": {},
   "outputs": [],
   "source": [
    "# How to prepare vectors to be used in a machine learning model?\n",
    "vectors = [[d2v_model.infer_vector(words)] for words in X_test]"
   ]
  },
  {
   "cell_type": "code",
   "execution_count": 8,
   "metadata": {},
   "outputs": [
    {
     "data": {
      "text/plain": [
       "[array([-0.00135667, -0.02554042,  0.01385472,  0.02426753, -0.00610694,\n",
       "         0.02937614,  0.03307242,  0.03144768, -0.00735158, -0.05141122,\n",
       "         0.00263753, -0.02761181, -0.01105818, -0.01329363, -0.01397014,\n",
       "        -0.00281641,  0.0061922 , -0.01606524, -0.02255584,  0.01138902,\n",
       "         0.01251789,  0.03696594,  0.02281269, -0.00983004,  0.00728614,\n",
       "        -0.02237232,  0.02067966, -0.02982088,  0.0136727 ,  0.02267332,\n",
       "         0.01099983,  0.00935793, -0.00489108,  0.00248693, -0.00575307,\n",
       "        -0.0120107 ,  0.03164999, -0.00526734,  0.02659447, -0.01956563,\n",
       "         0.00531843, -0.00731028, -0.00303448, -0.02078244,  0.02685647,\n",
       "        -0.00350828, -0.01962113, -0.00889408,  0.01893955,  0.01236731,\n",
       "         0.01039139,  0.01018578,  0.00727288,  0.01036821, -0.00659475,\n",
       "         0.00876178, -0.00996866,  0.01524262,  0.02326941, -0.01306667,\n",
       "         0.01023581,  0.01141928, -0.04556716, -0.00565641, -0.01788141,\n",
       "         0.00940144,  0.00161431, -0.00955609, -0.02894936,  0.00510278,\n",
       "        -0.00680054, -0.00148411,  0.01297822, -0.00687138, -0.00029611,\n",
       "        -0.0193334 ,  0.03499256, -0.00934695, -0.01196441, -0.01471642,\n",
       "        -0.03152181,  0.00876239, -0.02865373,  0.00715142,  0.00590864,\n",
       "         0.02614956,  0.00339243,  0.05640966,  0.017418  , -0.00856392,\n",
       "         0.00575695,  0.01597991,  0.02015307,  0.00839854,  0.00332855,\n",
       "         0.02861304,  0.01881235,  0.00104704, -0.01382703,  0.01972035],\n",
       "       dtype=float32)]"
      ]
     },
     "execution_count": 8,
     "metadata": {},
     "output_type": "execute_result"
    }
   ],
   "source": [
    "vectors[0]"
   ]
  }
 ],
 "metadata": {
  "kernelspec": {
   "display_name": "Python 3",
   "language": "python",
   "name": "python3"
  },
  "language_info": {
   "codemirror_mode": {
    "name": "ipython",
    "version": 3
   },
   "file_extension": ".py",
   "mimetype": "text/x-python",
   "name": "python",
   "nbconvert_exporter": "python",
   "pygments_lexer": "ipython3",
   "version": "3.7.6"
  }
 },
 "nbformat": 4,
 "nbformat_minor": 4
}
